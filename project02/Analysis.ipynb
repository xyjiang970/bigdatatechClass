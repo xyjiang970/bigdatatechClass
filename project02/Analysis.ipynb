{
 "cells": [
  {
   "cell_type": "markdown",
   "id": "18a81e7f",
   "metadata": {},
   "source": [
    "# Analysis of Yelp Business Intelligence Data"
   ]
  },
  {
   "cell_type": "markdown",
   "id": "b8ba2caa",
   "metadata": {},
   "source": [
    "We will analyze a subset of Yelp's business, reviews and user data. This dataset comes to us from Kaggle although we have taken steps to pull this data into a publis s3 bucket: `s3://cis9760-yelpdataset/yelp-light/*business.json`"
   ]
  },
  {
   "cell_type": "markdown",
   "id": "5b26b5a8",
   "metadata": {},
   "source": [
    "# Installation and Initial Setup"
   ]
  },
  {
   "cell_type": "markdown",
   "id": "a4476bf7",
   "metadata": {},
   "source": [
    "Begin by installing the necessary libraries that you may need to conduct your analysis. At the very least, you must install `pandas` and `matplotlib`"
   ]
  },
  {
   "cell_type": "code",
   "execution_count": 1,
   "id": "233a9bc4",
   "metadata": {},
   "outputs": [
    {
     "data": {
      "text/html": [
       "Current session configs: <tt>{'conf': {'spark.pyspark.python': 'python3', 'spark.pyspark.virtualenv.enabled': 'true', 'spark.pyspark.virtualenv.type': 'native', 'spark.pyspark.virtualenv.bin.path': '/usr/bin/virtualenv'}, 'kind': 'pyspark'}</tt><br>"
      ],
      "text/plain": [
       "<IPython.core.display.HTML object>"
      ]
     },
     "metadata": {},
     "output_type": "display_data"
    },
    {
     "data": {
      "text/html": [
       "No active sessions."
      ],
      "text/plain": [
       "<IPython.core.display.HTML object>"
      ]
     },
     "metadata": {},
     "output_type": "display_data"
    }
   ],
   "source": [
    "%%info"
   ]
  },
  {
   "cell_type": "code",
   "execution_count": 2,
   "id": "cf213f16",
   "metadata": {},
   "outputs": [
    {
     "data": {
      "application/vnd.jupyter.widget-view+json": {
       "model_id": "6f6a33d7d17e45399957e351bbca5275",
       "version_major": 2,
       "version_minor": 0
      },
      "text/plain": [
       "VBox()"
      ]
     },
     "metadata": {},
     "output_type": "display_data"
    },
    {
     "name": "stdout",
     "output_type": "stream",
     "text": [
      "Starting Spark application\n"
     ]
    },
    {
     "data": {
      "text/html": [
       "<table>\n",
       "<tr><th>ID</th><th>YARN Application ID</th><th>Kind</th><th>State</th><th>Spark UI</th><th>Driver log</th><th>Current session?</th></tr><tr><td>10</td><td>application_1651323976290_0011</td><td>pyspark</td><td>idle</td><td><a target=\"_blank\" href=\"http://ip-172-31-47-22.ec2.internal:20888/proxy/application_1651323976290_0011/\">Link</a></td><td><a target=\"_blank\" href=\"http://ip-172-31-44-101.ec2.internal:8042/node/containerlogs/container_1651323976290_0011_01_000001/livy\">Link</a></td><td>✔</td></tr></table>"
      ],
      "text/plain": [
       "<IPython.core.display.HTML object>"
      ]
     },
     "metadata": {},
     "output_type": "display_data"
    },
    {
     "data": {
      "application/vnd.jupyter.widget-view+json": {
       "model_id": "",
       "version_major": 2,
       "version_minor": 0
      },
      "text/plain": [
       "FloatProgress(value=0.0, bar_style='info', description='Progress:', layout=Layout(height='25px', width='50%'),…"
      ]
     },
     "metadata": {},
     "output_type": "display_data"
    },
    {
     "name": "stdout",
     "output_type": "stream",
     "text": [
      "SparkSession available as 'spark'.\n"
     ]
    },
    {
     "data": {
      "application/vnd.jupyter.widget-view+json": {
       "model_id": "",
       "version_major": 2,
       "version_minor": 0
      },
      "text/plain": [
       "FloatProgress(value=0.0, bar_style='info', description='Progress:', layout=Layout(height='25px', width='50%'),…"
      ]
     },
     "metadata": {},
     "output_type": "display_data"
    },
    {
     "name": "stdout",
     "output_type": "stream",
     "text": [
      "Collecting pandas==1.0.3\n",
      "  Using cached https://files.pythonhosted.org/packages/4a/6a/94b219b8ea0f2d580169e85ed1edc0163743f55aaeca8a44c2e8fc1e344e/pandas-1.0.3-cp37-cp37m-manylinux1_x86_64.whl\n",
      "Requirement already satisfied: pytz>=2017.2 in /usr/local/lib/python3.7/site-packages (from pandas==1.0.3)\n",
      "Requirement already satisfied: numpy>=1.13.3 in /usr/local/lib64/python3.7/site-packages (from pandas==1.0.3)\n",
      "Collecting python-dateutil>=2.6.1 (from pandas==1.0.3)\n",
      "  Using cached https://files.pythonhosted.org/packages/36/7a/87837f39d0296e723bb9b62bbb257d0355c7f6128853c78955f57342a56d/python_dateutil-2.8.2-py2.py3-none-any.whl\n",
      "Requirement already satisfied: six>=1.5 in /usr/local/lib/python3.7/site-packages (from python-dateutil>=2.6.1->pandas==1.0.3)\n",
      "Installing collected packages: python-dateutil, pandas\n",
      "Successfully installed pandas-1.0.3 python-dateutil-2.8.2\n",
      "\n",
      "Collecting matplotlib==3.2.1\n",
      "  Using cached https://files.pythonhosted.org/packages/b2/c2/71fcf957710f3ba1f09088b35776a799ba7dd95f7c2b195ec800933b276b/matplotlib-3.2.1-cp37-cp37m-manylinux1_x86_64.whl\n",
      "Requirement already satisfied: python-dateutil>=2.1 in /mnt/tmp/1651341799496-0/lib/python3.7/site-packages (from matplotlib==3.2.1)\n",
      "Collecting pyparsing!=2.0.4,!=2.1.2,!=2.1.6,>=2.0.1 (from matplotlib==3.2.1)\n",
      "  Using cached https://files.pythonhosted.org/packages/d9/41/d9cfb4410589805cd787f8a82cddd13142d9bf7449d12adf2d05a4a7d633/pyparsing-3.0.8-py3-none-any.whl\n",
      "Collecting cycler>=0.10 (from matplotlib==3.2.1)\n",
      "  Using cached https://files.pythonhosted.org/packages/5c/f9/695d6bedebd747e5eb0fe8fad57b72fdf25411273a39791cde838d5a8f51/cycler-0.11.0-py3-none-any.whl\n",
      "Requirement already satisfied: numpy>=1.11 in /usr/local/lib64/python3.7/site-packages (from matplotlib==3.2.1)\n",
      "Collecting kiwisolver>=1.0.1 (from matplotlib==3.2.1)\n",
      "  Using cached https://files.pythonhosted.org/packages/51/50/9a9a94afa26c50fc5d9127272737806990aa698c7a1c220b8e5075e70304/kiwisolver-1.4.2-cp37-cp37m-manylinux_2_5_x86_64.manylinux1_x86_64.whl\n",
      "Requirement already satisfied: six>=1.5 in /usr/local/lib/python3.7/site-packages (from python-dateutil>=2.1->matplotlib==3.2.1)\n",
      "Collecting typing-extensions; python_version < \"3.8\" (from kiwisolver>=1.0.1->matplotlib==3.2.1)\n",
      "  Using cached https://files.pythonhosted.org/packages/75/e1/932e06004039dd670c9d5e1df0cd606bf46e29a28e65d5bb28e894ea29c9/typing_extensions-4.2.0-py3-none-any.whl\n",
      "Installing collected packages: pyparsing, cycler, typing-extensions, kiwisolver, matplotlib\n",
      "Successfully installed cycler-0.11.0 kiwisolver-1.4.2 matplotlib-3.2.1 pyparsing-3.0.8 typing-extensions-4.2.0\n",
      "\n",
      "Collecting scipy==1.7.1\n",
      "  Using cached https://files.pythonhosted.org/packages/b5/6b/8bc0b61ebf824f8c3979a31368bbe38dd247590049a994ab0ed077cb56dc/scipy-1.7.1-cp37-cp37m-manylinux_2_5_x86_64.manylinux1_x86_64.whl\n",
      "Requirement already satisfied: numpy<1.23.0,>=1.16.5 in /usr/local/lib64/python3.7/site-packages (from scipy==1.7.1)\n",
      "Installing collected packages: scipy\n",
      "Successfully installed scipy-1.7.1\n",
      "\n",
      "Collecting seaborn==0.11.2\n",
      "  Using cached https://files.pythonhosted.org/packages/10/5b/0479d7d845b5ba410ca702ffcd7f2cd95a14a4dfff1fde2637802b258b9b/seaborn-0.11.2-py3-none-any.whl\n",
      "Requirement already satisfied: numpy>=1.15 in /usr/local/lib64/python3.7/site-packages (from seaborn==0.11.2)\n",
      "Requirement already satisfied: scipy>=1.0 in /mnt/tmp/1651341799496-0/lib/python3.7/site-packages (from seaborn==0.11.2)\n",
      "Requirement already satisfied: matplotlib>=2.2 in /mnt/tmp/1651341799496-0/lib/python3.7/site-packages (from seaborn==0.11.2)\n",
      "Requirement already satisfied: pandas>=0.23 in /mnt/tmp/1651341799496-0/lib/python3.7/site-packages (from seaborn==0.11.2)\n",
      "Requirement already satisfied: python-dateutil>=2.1 in /mnt/tmp/1651341799496-0/lib/python3.7/site-packages (from matplotlib>=2.2->seaborn==0.11.2)\n",
      "Requirement already satisfied: pyparsing!=2.0.4,!=2.1.2,!=2.1.6,>=2.0.1 in /mnt/tmp/1651341799496-0/lib/python3.7/site-packages (from matplotlib>=2.2->seaborn==0.11.2)\n",
      "Requirement already satisfied: cycler>=0.10 in /mnt/tmp/1651341799496-0/lib/python3.7/site-packages (from matplotlib>=2.2->seaborn==0.11.2)\n",
      "Requirement already satisfied: kiwisolver>=1.0.1 in /mnt/tmp/1651341799496-0/lib/python3.7/site-packages (from matplotlib>=2.2->seaborn==0.11.2)\n",
      "Requirement already satisfied: pytz>=2017.2 in /usr/local/lib/python3.7/site-packages (from pandas>=0.23->seaborn==0.11.2)\n",
      "Requirement already satisfied: six>=1.5 in /usr/local/lib/python3.7/site-packages (from python-dateutil>=2.1->matplotlib>=2.2->seaborn==0.11.2)\n",
      "Requirement already satisfied: typing-extensions; python_version < \"3.8\" in /mnt/tmp/1651341799496-0/lib/python3.7/site-packages (from kiwisolver>=1.0.1->matplotlib>=2.2->seaborn==0.11.2)\n",
      "Installing collected packages: seaborn\n",
      "Successfully installed seaborn-0.11.2"
     ]
    }
   ],
   "source": [
    "# Installing all libraries I might need\n",
    "sc.install_pypi_package(\"pandas==1.0.3\")\n",
    "sc.install_pypi_package(\"matplotlib==3.2.1\")\n",
    "sc.install_pypi_package(\"scipy==1.7.1\")\n",
    "sc.install_pypi_package(\"seaborn==0.11.2\")"
   ]
  },
  {
   "cell_type": "markdown",
   "id": "a6b093ff",
   "metadata": {},
   "source": [
    "## Importing"
   ]
  },
  {
   "cell_type": "markdown",
   "id": "fb96b93e",
   "metadata": {},
   "source": [
    "Now, import the installed packages from the previous block below."
   ]
  },
  {
   "cell_type": "code",
   "execution_count": 3,
   "id": "2e280849",
   "metadata": {},
   "outputs": [
    {
     "data": {
      "application/vnd.jupyter.widget-view+json": {
       "model_id": "0b6ee495e49f4712933eeb30b4c1db53",
       "version_major": 2,
       "version_minor": 0
      },
      "text/plain": [
       "VBox()"
      ]
     },
     "metadata": {},
     "output_type": "display_data"
    },
    {
     "data": {
      "application/vnd.jupyter.widget-view+json": {
       "model_id": "",
       "version_major": 2,
       "version_minor": 0
      },
      "text/plain": [
       "FloatProgress(value=0.0, bar_style='info', description='Progress:', layout=Layout(height='25px', width='50%'),…"
      ]
     },
     "metadata": {},
     "output_type": "display_data"
    }
   ],
   "source": [
    "# Importing libraries\n",
    "import pandas as pd\n",
    "import matplotlib.pyplot as plt\n",
    "import seaborn as sns\n",
    "from scipy import stats"
   ]
  },
  {
   "cell_type": "markdown",
   "id": "df63a92b",
   "metadata": {},
   "source": [
    "## Loading Data"
   ]
  },
  {
   "cell_type": "markdown",
   "id": "15d8e133",
   "metadata": {},
   "source": [
    "We are finally ready to load data. Using spark load the data from S3 into a dataframe object that we can manipulate further down in our analysis."
   ]
  },
  {
   "cell_type": "code",
   "execution_count": 4,
   "id": "e38c7612",
   "metadata": {},
   "outputs": [
    {
     "data": {
      "application/vnd.jupyter.widget-view+json": {
       "model_id": "99ce63aa74a44befbb41dacb0b1db5f3",
       "version_major": 2,
       "version_minor": 0
      },
      "text/plain": [
       "VBox()"
      ]
     },
     "metadata": {},
     "output_type": "display_data"
    },
    {
     "data": {
      "application/vnd.jupyter.widget-view+json": {
       "model_id": "",
       "version_major": 2,
       "version_minor": 0
      },
      "text/plain": [
       "FloatProgress(value=0.0, bar_style='info', description='Progress:', layout=Layout(height='25px', width='50%'),…"
      ]
     },
     "metadata": {},
     "output_type": "display_data"
    }
   ],
   "source": [
    "# Importing files from S3\n",
    "business = spark.read.json('s3://xinyujiang-project02/yelp_academic_dataset_business.json')"
   ]
  },
  {
   "cell_type": "code",
   "execution_count": 5,
   "id": "52a552ec",
   "metadata": {
    "scrolled": true
   },
   "outputs": [
    {
     "data": {
      "application/vnd.jupyter.widget-view+json": {
       "model_id": "051d091e94324428bb8a1d130e3d12a5",
       "version_major": 2,
       "version_minor": 0
      },
      "text/plain": [
       "VBox()"
      ]
     },
     "metadata": {},
     "output_type": "display_data"
    },
    {
     "data": {
      "application/vnd.jupyter.widget-view+json": {
       "model_id": "",
       "version_major": 2,
       "version_minor": 0
      },
      "text/plain": [
       "FloatProgress(value=0.0, bar_style='info', description='Progress:', layout=Layout(height='25px', width='50%'),…"
      ]
     },
     "metadata": {},
     "output_type": "display_data"
    },
    {
     "name": "stdout",
     "output_type": "stream",
     "text": [
      "+--------------------+--------------------+--------------------+--------------------+-------------+--------------------+-------+----------+------------+--------------------+-----------+------------+-----+-----+\n",
      "|             address|          attributes|         business_id|          categories|         city|               hours|is_open|  latitude|   longitude|                name|postal_code|review_count|stars|state|\n",
      "+--------------------+--------------------+--------------------+--------------------+-------------+--------------------+-------+----------+------------+--------------------+-----------+------------+-----+-----+\n",
      "|1616 Chapala St, ...|[,,,,,,,,,,, True...|Pns2l4eNsfO8kk83d...|Doctors, Traditio...|Santa Barbara|                null|      0|34.4266787|-119.7111968|Abby Rappoport, L...|      93101|           7|  5.0|   CA|\n",
      "|87 Grasso Plaza S...|[,,,,,,,,, True,,...|mpf3x-BjTdTEA3yCZ...|Shipping Centers,...|       Affton|[8:0-18:30, 0:0-0...|      1| 38.551126|  -90.335695|       The UPS Store|      63123|          15|  3.0|   MO|\n",
      "|5255 E Broadway Blvd|[,,,,,,, True,, T...|tUFrWirKiKi_TAnsV...|Department Stores...|       Tucson|[8:0-23:0, 8:0-22...|      0| 32.223236| -110.880452|              Target|      85711|          22|  3.5|   AZ|\n",
      "|         935 Race St|[,, u'none',,,,, ...|MTSW4McQd7CbVtyjq...|Restaurants, Food...| Philadelphia|[7:0-21:0, 7:0-20...|      1|39.9555052| -75.1555641|  St Honore Pastries|      19107|          80|  4.0|   PA|\n",
      "|       101 Walnut St|[,,,,,,, True,, T...|mWMc6_wTdE0EUBKIG...|Brewpubs, Breweri...|   Green Lane|[12:0-22:0,, 12:0...|      1|40.3381827| -75.4716585|Perkiomen Valley ...|      18054|          13|  4.5|   PA|\n",
      "+--------------------+--------------------+--------------------+--------------------+-------------+--------------------+-------+----------+------------+--------------------+-----------+------------+-----+-----+\n",
      "only showing top 5 rows"
     ]
    }
   ],
   "source": [
    "# Previewing business dataframe\n",
    "business.show(5)"
   ]
  },
  {
   "cell_type": "markdown",
   "id": "7abb866d",
   "metadata": {},
   "source": [
    "# Overview of Data"
   ]
  },
  {
   "cell_type": "markdown",
   "id": "07c787ca",
   "metadata": {},
   "source": [
    "Display the number of rows and columns in our dataset."
   ]
  },
  {
   "cell_type": "code",
   "execution_count": 6,
   "id": "1bc5cee1",
   "metadata": {},
   "outputs": [
    {
     "data": {
      "application/vnd.jupyter.widget-view+json": {
       "model_id": "64b967926a7c4ed1a4c2a62e7e1c6f54",
       "version_major": 2,
       "version_minor": 0
      },
      "text/plain": [
       "VBox()"
      ]
     },
     "metadata": {},
     "output_type": "display_data"
    },
    {
     "data": {
      "application/vnd.jupyter.widget-view+json": {
       "model_id": "",
       "version_major": 2,
       "version_minor": 0
      },
      "text/plain": [
       "FloatProgress(value=0.0, bar_style='info', description='Progress:', layout=Layout(height='25px', width='50%'),…"
      ]
     },
     "metadata": {},
     "output_type": "display_data"
    },
    {
     "name": "stdout",
     "output_type": "stream",
     "text": [
      "Number of columns in Business table:  14\n",
      "Number of rows in Business table:  150346"
     ]
    }
   ],
   "source": [
    "columns = len(business.columns)\n",
    "rows = business.count()\n",
    "\n",
    "print('Number of columns in Business table: ',columns)\n",
    "print('Number of rows in Business table: ',rows)"
   ]
  },
  {
   "cell_type": "markdown",
   "id": "dc29ae82",
   "metadata": {},
   "source": [
    "Display the DataFrame schema below."
   ]
  },
  {
   "cell_type": "code",
   "execution_count": 7,
   "id": "4d9e039a",
   "metadata": {},
   "outputs": [
    {
     "data": {
      "application/vnd.jupyter.widget-view+json": {
       "model_id": "e375be137cac49cda03a5f0b853e8665",
       "version_major": 2,
       "version_minor": 0
      },
      "text/plain": [
       "VBox()"
      ]
     },
     "metadata": {},
     "output_type": "display_data"
    },
    {
     "data": {
      "application/vnd.jupyter.widget-view+json": {
       "model_id": "",
       "version_major": 2,
       "version_minor": 0
      },
      "text/plain": [
       "FloatProgress(value=0.0, bar_style='info', description='Progress:', layout=Layout(height='25px', width='50%'),…"
      ]
     },
     "metadata": {},
     "output_type": "display_data"
    },
    {
     "name": "stdout",
     "output_type": "stream",
     "text": [
      "root\n",
      " |-- address: string (nullable = true)\n",
      " |-- attributes: struct (nullable = true)\n",
      " |    |-- AcceptsInsurance: string (nullable = true)\n",
      " |    |-- AgesAllowed: string (nullable = true)\n",
      " |    |-- Alcohol: string (nullable = true)\n",
      " |    |-- Ambience: string (nullable = true)\n",
      " |    |-- BYOB: string (nullable = true)\n",
      " |    |-- BYOBCorkage: string (nullable = true)\n",
      " |    |-- BestNights: string (nullable = true)\n",
      " |    |-- BikeParking: string (nullable = true)\n",
      " |    |-- BusinessAcceptsBitcoin: string (nullable = true)\n",
      " |    |-- BusinessAcceptsCreditCards: string (nullable = true)\n",
      " |    |-- BusinessParking: string (nullable = true)\n",
      " |    |-- ByAppointmentOnly: string (nullable = true)\n",
      " |    |-- Caters: string (nullable = true)\n",
      " |    |-- CoatCheck: string (nullable = true)\n",
      " |    |-- Corkage: string (nullable = true)\n",
      " |    |-- DietaryRestrictions: string (nullable = true)\n",
      " |    |-- DogsAllowed: string (nullable = true)\n",
      " |    |-- DriveThru: string (nullable = true)\n",
      " |    |-- GoodForDancing: string (nullable = true)\n",
      " |    |-- GoodForKids: string (nullable = true)\n",
      " |    |-- GoodForMeal: string (nullable = true)\n",
      " |    |-- HairSpecializesIn: string (nullable = true)\n",
      " |    |-- HappyHour: string (nullable = true)\n",
      " |    |-- HasTV: string (nullable = true)\n",
      " |    |-- Music: string (nullable = true)\n",
      " |    |-- NoiseLevel: string (nullable = true)\n",
      " |    |-- Open24Hours: string (nullable = true)\n",
      " |    |-- OutdoorSeating: string (nullable = true)\n",
      " |    |-- RestaurantsAttire: string (nullable = true)\n",
      " |    |-- RestaurantsCounterService: string (nullable = true)\n",
      " |    |-- RestaurantsDelivery: string (nullable = true)\n",
      " |    |-- RestaurantsGoodForGroups: string (nullable = true)\n",
      " |    |-- RestaurantsPriceRange2: string (nullable = true)\n",
      " |    |-- RestaurantsReservations: string (nullable = true)\n",
      " |    |-- RestaurantsTableService: string (nullable = true)\n",
      " |    |-- RestaurantsTakeOut: string (nullable = true)\n",
      " |    |-- Smoking: string (nullable = true)\n",
      " |    |-- WheelchairAccessible: string (nullable = true)\n",
      " |    |-- WiFi: string (nullable = true)\n",
      " |-- business_id: string (nullable = true)\n",
      " |-- categories: string (nullable = true)\n",
      " |-- city: string (nullable = true)\n",
      " |-- hours: struct (nullable = true)\n",
      " |    |-- Friday: string (nullable = true)\n",
      " |    |-- Monday: string (nullable = true)\n",
      " |    |-- Saturday: string (nullable = true)\n",
      " |    |-- Sunday: string (nullable = true)\n",
      " |    |-- Thursday: string (nullable = true)\n",
      " |    |-- Tuesday: string (nullable = true)\n",
      " |    |-- Wednesday: string (nullable = true)\n",
      " |-- is_open: long (nullable = true)\n",
      " |-- latitude: double (nullable = true)\n",
      " |-- longitude: double (nullable = true)\n",
      " |-- name: string (nullable = true)\n",
      " |-- postal_code: string (nullable = true)\n",
      " |-- review_count: long (nullable = true)\n",
      " |-- stars: double (nullable = true)\n",
      " |-- state: string (nullable = true)"
     ]
    }
   ],
   "source": [
    "business.printSchema()"
   ]
  },
  {
   "cell_type": "markdown",
   "id": "75278d43",
   "metadata": {},
   "source": [
    "Display the first 5 rows with the following columns:\n",
    "\n",
    "* `business_id`\n",
    "* `name`\n",
    "* `city`\n",
    "* `state`\n",
    "* `categories`"
   ]
  },
  {
   "cell_type": "code",
   "execution_count": 8,
   "id": "95a2a201",
   "metadata": {},
   "outputs": [
    {
     "data": {
      "application/vnd.jupyter.widget-view+json": {
       "model_id": "2f6678434f154d9ba73d3a2e09c9d269",
       "version_major": 2,
       "version_minor": 0
      },
      "text/plain": [
       "VBox()"
      ]
     },
     "metadata": {},
     "output_type": "display_data"
    },
    {
     "data": {
      "application/vnd.jupyter.widget-view+json": {
       "model_id": "",
       "version_major": 2,
       "version_minor": 0
      },
      "text/plain": [
       "FloatProgress(value=0.0, bar_style='info', description='Progress:', layout=Layout(height='25px', width='50%'),…"
      ]
     },
     "metadata": {},
     "output_type": "display_data"
    },
    {
     "name": "stdout",
     "output_type": "stream",
     "text": [
      "+--------------------+--------------------+-------------+-----+--------------------+\n",
      "|         business_id|                name|         city|state|          categories|\n",
      "+--------------------+--------------------+-------------+-----+--------------------+\n",
      "|Pns2l4eNsfO8kk83d...|Abby Rappoport, L...|Santa Barbara|   CA|Doctors, Traditio...|\n",
      "|mpf3x-BjTdTEA3yCZ...|       The UPS Store|       Affton|   MO|Shipping Centers,...|\n",
      "|tUFrWirKiKi_TAnsV...|              Target|       Tucson|   AZ|Department Stores...|\n",
      "|MTSW4McQd7CbVtyjq...|  St Honore Pastries| Philadelphia|   PA|Restaurants, Food...|\n",
      "|mWMc6_wTdE0EUBKIG...|Perkiomen Valley ...|   Green Lane|   PA|Brewpubs, Breweri...|\n",
      "+--------------------+--------------------+-------------+-----+--------------------+\n",
      "only showing top 5 rows"
     ]
    }
   ],
   "source": [
    "business.createOrReplaceTempView(\"business\")\n",
    "spark.sql(\"\"\"\n",
    "SELECT \n",
    "    business_id,\n",
    "    name,\n",
    "    city,\n",
    "    state,\n",
    "    categories\n",
    "FROM business\n",
    "\"\"\").show(5, truncate=True)"
   ]
  },
  {
   "cell_type": "markdown",
   "id": "5867fb5d",
   "metadata": {},
   "source": [
    "--------------------------"
   ]
  },
  {
   "cell_type": "markdown",
   "id": "6fece28f",
   "metadata": {},
   "source": [
    "# Analyzing Categories"
   ]
  },
  {
   "cell_type": "markdown",
   "id": "c6c46d5b",
   "metadata": {},
   "source": [
    "Let's now answer this question: **how many unique categories are represented in this dataset?**\n",
    "\n",
    "Essentially, we have the categories per business as a list - this is useful to quickly see what each business might be represented as but it is difficult to easily answer questions such as:\n",
    "\n",
    "* How many businesses are categorized as `Active Life`, for instance\n",
    "* What are the top 20 most popular categories available?"
   ]
  },
  {
   "cell_type": "markdown",
   "id": "660fba04",
   "metadata": {},
   "source": [
    "## Association Table\n",
    "\n",
    "We need to \"break out\" these categories from the business ids? One common approach to take is to build an association table mapping a single business id multiple times to each distinct category.\n",
    "\n",
    "For instance, given the following:\n",
    "\n",
    "\n",
    "| business_id | categories |\n",
    "|-------------|------------|\n",
    "| abcd123     | a,b,c      |\n",
    "\n",
    "We would like to derive something like:\n",
    "\n",
    "| business_id | category |\n",
    "|-------------|------------|\n",
    "| abcd123     | a          |\n",
    "| abcd123     | b          |\n",
    "| abcd123     | c          |\n",
    "\n",
    "\n",
    "What this does is allow us to then perform a myriad of rollups and other analysis on this association table which can aid us in answering the questions asked above.\n",
    "\n",
    "Implement the code necessary to derive the table described from your original yelp dataframe."
   ]
  },
  {
   "cell_type": "code",
   "execution_count": 9,
   "id": "c0eb22d8",
   "metadata": {},
   "outputs": [
    {
     "data": {
      "application/vnd.jupyter.widget-view+json": {
       "model_id": "a7a7a46d988245b580e15162c6c8f8ca",
       "version_major": 2,
       "version_minor": 0
      },
      "text/plain": [
       "VBox()"
      ]
     },
     "metadata": {},
     "output_type": "display_data"
    },
    {
     "data": {
      "application/vnd.jupyter.widget-view+json": {
       "model_id": "",
       "version_major": 2,
       "version_minor": 0
      },
      "text/plain": [
       "FloatProgress(value=0.0, bar_style='info', description='Progress:', layout=Layout(height='25px', width='50%'),…"
      ]
     },
     "metadata": {},
     "output_type": "display_data"
    }
   ],
   "source": [
    "# Install the necessary libraries here\n",
    "# SQL functions\n",
    "from pyspark.sql.functions import explode, split, col, mean, countDistinct"
   ]
  },
  {
   "cell_type": "code",
   "execution_count": 10,
   "id": "ff8d3ecd",
   "metadata": {},
   "outputs": [
    {
     "data": {
      "application/vnd.jupyter.widget-view+json": {
       "model_id": "f744c5e20da74e868127446e2167ebb8",
       "version_major": 2,
       "version_minor": 0
      },
      "text/plain": [
       "VBox()"
      ]
     },
     "metadata": {},
     "output_type": "display_data"
    },
    {
     "data": {
      "application/vnd.jupyter.widget-view+json": {
       "model_id": "",
       "version_major": 2,
       "version_minor": 0
      },
      "text/plain": [
       "FloatProgress(value=0.0, bar_style='info', description='Progress:', layout=Layout(height='25px', width='50%'),…"
      ]
     },
     "metadata": {},
     "output_type": "display_data"
    },
    {
     "name": "stdout",
     "output_type": "stream",
     "text": [
      "+--------------------+--------------------+\n",
      "|         business_id|          categories|\n",
      "+--------------------+--------------------+\n",
      "|Pns2l4eNsfO8kk83d...|Doctors, Traditio...|\n",
      "|mpf3x-BjTdTEA3yCZ...|Shipping Centers,...|\n",
      "|tUFrWirKiKi_TAnsV...|Department Stores...|\n",
      "|MTSW4McQd7CbVtyjq...|Restaurants, Food...|\n",
      "|mWMc6_wTdE0EUBKIG...|Brewpubs, Breweri...|\n",
      "+--------------------+--------------------+\n",
      "only showing top 5 rows"
     ]
    }
   ],
   "source": [
    "business.createOrReplaceTempView(\"business\")\n",
    "spark.sql(\"\"\"\n",
    "SELECT \n",
    "    business_id,\n",
    "    categories\n",
    "FROM business\n",
    "\"\"\").show(5, truncate=True)"
   ]
  },
  {
   "cell_type": "markdown",
   "id": "5f92bc49",
   "metadata": {},
   "source": [
    "Display the first 5 rows of your association table below."
   ]
  },
  {
   "cell_type": "code",
   "execution_count": 11,
   "id": "f0e1c1db",
   "metadata": {},
   "outputs": [
    {
     "data": {
      "application/vnd.jupyter.widget-view+json": {
       "model_id": "673288a0680646e89bbacda8ed5ec87a",
       "version_major": 2,
       "version_minor": 0
      },
      "text/plain": [
       "VBox()"
      ]
     },
     "metadata": {},
     "output_type": "display_data"
    },
    {
     "data": {
      "application/vnd.jupyter.widget-view+json": {
       "model_id": "",
       "version_major": 2,
       "version_minor": 0
      },
      "text/plain": [
       "FloatProgress(value=0.0, bar_style='info', description='Progress:', layout=Layout(height='25px', width='50%'),…"
      ]
     },
     "metadata": {},
     "output_type": "display_data"
    },
    {
     "name": "stdout",
     "output_type": "stream",
     "text": [
      "+--------------------+--------------------+\n",
      "|         business_id|          categories|\n",
      "+--------------------+--------------------+\n",
      "|Pns2l4eNsfO8kk83d...|             Doctors|\n",
      "|Pns2l4eNsfO8kk83d...|Traditional Chine...|\n",
      "|Pns2l4eNsfO8kk83d...|Naturopathic/Holi...|\n",
      "|Pns2l4eNsfO8kk83d...|         Acupuncture|\n",
      "|Pns2l4eNsfO8kk83d...|    Health & Medical|\n",
      "+--------------------+--------------------+\n",
      "only showing top 5 rows"
     ]
    }
   ],
   "source": [
    "business = business.withColumn('categories', explode(split('categories',', ')))\n",
    "\n",
    "business.createOrReplaceTempView(\"business\")\n",
    "spark.sql(\"\"\"\n",
    "SELECT \n",
    "    business_id,\n",
    "    categories\n",
    "FROM business\n",
    "\"\"\").show(5, truncate=True)"
   ]
  },
  {
   "cell_type": "markdown",
   "id": "0d0c598a",
   "metadata": {},
   "source": [
    "# Total Unique Categories"
   ]
  },
  {
   "cell_type": "markdown",
   "id": "64649a62",
   "metadata": {},
   "source": [
    "Finally, we are ready to answer the question: **what is the total number of unique categories available?**\n",
    "\n",
    "Below, implement the code necessary to calculate this figure."
   ]
  },
  {
   "cell_type": "code",
   "execution_count": 12,
   "id": "56df0fa4",
   "metadata": {},
   "outputs": [
    {
     "data": {
      "application/vnd.jupyter.widget-view+json": {
       "model_id": "16260f2c02ef46a381056676923a8c14",
       "version_major": 2,
       "version_minor": 0
      },
      "text/plain": [
       "VBox()"
      ]
     },
     "metadata": {},
     "output_type": "display_data"
    },
    {
     "data": {
      "application/vnd.jupyter.widget-view+json": {
       "model_id": "",
       "version_major": 2,
       "version_minor": 0
      },
      "text/plain": [
       "FloatProgress(value=0.0, bar_style='info', description='Progress:', layout=Layout(height='25px', width='50%'),…"
      ]
     },
     "metadata": {},
     "output_type": "display_data"
    },
    {
     "name": "stdout",
     "output_type": "stream",
     "text": [
      "1311"
     ]
    }
   ],
   "source": [
    "business.createOrReplaceTempView(\"business\")\n",
    "spark.sql(\"\"\"\n",
    "SELECT \n",
    "    DISTINCT categories\n",
    "FROM business\n",
    "\"\"\").count()"
   ]
  },
  {
   "cell_type": "markdown",
   "id": "8d0c0f03",
   "metadata": {},
   "source": [
    "## Top Categories By Business\n",
    "\n",
    "Now let's find the top categories in this dataset by rolling up categories."
   ]
  },
  {
   "cell_type": "markdown",
   "id": "7849d334",
   "metadata": {},
   "source": [
    "### Counts of Businesses / Category"
   ]
  },
  {
   "cell_type": "markdown",
   "id": "a6712312",
   "metadata": {},
   "source": [
    "So now, let's unroll our distinct count a bit and display the per count value of businesses per category.\n",
    "\n",
    "The expected output should be:\n",
    "\n",
    "| category | count |\n",
    "|-------------|------------|\n",
    "| a     | 15         |\n",
    "| b     | 2          |\n",
    "| c     | 45          |\n",
    "\n",
    "Or something to that effect."
   ]
  },
  {
   "cell_type": "code",
   "execution_count": 13,
   "id": "e3c9df77",
   "metadata": {},
   "outputs": [
    {
     "data": {
      "application/vnd.jupyter.widget-view+json": {
       "model_id": "945b78b2d18541fc8ef09c6ee65c1ab2",
       "version_major": 2,
       "version_minor": 0
      },
      "text/plain": [
       "VBox()"
      ]
     },
     "metadata": {},
     "output_type": "display_data"
    },
    {
     "data": {
      "application/vnd.jupyter.widget-view+json": {
       "model_id": "",
       "version_major": 2,
       "version_minor": 0
      },
      "text/plain": [
       "FloatProgress(value=0.0, bar_style='info', description='Progress:', layout=Layout(height='25px', width='50%'),…"
      ]
     },
     "metadata": {},
     "output_type": "display_data"
    },
    {
     "name": "stdout",
     "output_type": "stream",
     "text": [
      "+--------------------+-----+\n",
      "|          categories|count|\n",
      "+--------------------+-----+\n",
      "|      Paddleboarding|   98|\n",
      "|      Dermatologists|  336|\n",
      "|         Hobby Shops|  552|\n",
      "|          Bubble Tea|  477|\n",
      "|             Embassy|    3|\n",
      "|             Tanning|  667|\n",
      "|            Handyman|  356|\n",
      "|      Aerial Fitness|   19|\n",
      "|             Falafel|  103|\n",
      "|        Summer Camps|  232|\n",
      "|       Outlet Stores|  182|\n",
      "|     Clothing Rental|   37|\n",
      "|      Sporting Goods| 1662|\n",
      "|     Cooking Schools|   76|\n",
      "|  Lactation Services|   27|\n",
      "|Ski & Snowboard S...|   40|\n",
      "|             Museums|  413|\n",
      "|              Doulas|   31|\n",
      "|                Food|27781|\n",
      "|         Halotherapy|   23|\n",
      "+--------------------+-----+\n",
      "only showing top 20 rows"
     ]
    }
   ],
   "source": [
    "business.groupBy('categories').count().show()"
   ]
  },
  {
   "cell_type": "markdown",
   "id": "d0edd80e",
   "metadata": {},
   "source": [
    "### Bar Chart of Top Categories\n",
    "\n",
    "With this data available, let us now build a barchart of the top 20 categories. \n",
    "\n",
    "**HINT**: don't forget about the matplotlib magic!\n",
    "\n",
    "```\n",
    "%matplot plt\n",
    "```\n",
    "\n",
    "If you want, you can also use seaborn library"
   ]
  },
  {
   "cell_type": "code",
   "execution_count": 14,
   "id": "2eda51d2",
   "metadata": {},
   "outputs": [
    {
     "data": {
      "application/vnd.jupyter.widget-view+json": {
       "model_id": "dbb4d3231b894f9881d1c0e71c97a5d4",
       "version_major": 2,
       "version_minor": 0
      },
      "text/plain": [
       "VBox()"
      ]
     },
     "metadata": {},
     "output_type": "display_data"
    },
    {
     "data": {
      "application/vnd.jupyter.widget-view+json": {
       "model_id": "",
       "version_major": 2,
       "version_minor": 0
      },
      "text/plain": [
       "FloatProgress(value=0.0, bar_style='info', description='Progress:', layout=Layout(height='25px', width='50%'),…"
      ]
     },
     "metadata": {},
     "output_type": "display_data"
    },
    {
     "name": "stdout",
     "output_type": "stream",
     "text": [
      "+--------------------+-----+\n",
      "|          categories|count|\n",
      "+--------------------+-----+\n",
      "|         Restaurants|52268|\n",
      "|                Food|27781|\n",
      "|            Shopping|24395|\n",
      "|       Home Services|14356|\n",
      "|       Beauty & Spas|14292|\n",
      "|           Nightlife|12281|\n",
      "|    Health & Medical|11890|\n",
      "|      Local Services|11198|\n",
      "|                Bars|11065|\n",
      "|          Automotive|10773|\n",
      "|Event Planning & ...| 9895|\n",
      "|          Sandwiches| 8366|\n",
      "|American (Traditi...| 8139|\n",
      "|         Active Life| 7687|\n",
      "|               Pizza| 7093|\n",
      "|        Coffee & Tea| 6703|\n",
      "|           Fast Food| 6472|\n",
      "|  Breakfast & Brunch| 6239|\n",
      "|      American (New)| 6097|\n",
      "|     Hotels & Travel| 5857|\n",
      "+--------------------+-----+\n",
      "only showing top 20 rows"
     ]
    }
   ],
   "source": [
    "business.groupBy('categories').count().orderBy(col('count').desc()).show()"
   ]
  },
  {
   "cell_type": "code",
   "execution_count": 15,
   "id": "a49a997f",
   "metadata": {},
   "outputs": [
    {
     "data": {
      "application/vnd.jupyter.widget-view+json": {
       "model_id": "561da5e5cad04d308ec416388cf022a4",
       "version_major": 2,
       "version_minor": 0
      },
      "text/plain": [
       "VBox()"
      ]
     },
     "metadata": {},
     "output_type": "display_data"
    },
    {
     "data": {
      "application/vnd.jupyter.widget-view+json": {
       "model_id": "",
       "version_major": 2,
       "version_minor": 0
      },
      "text/plain": [
       "FloatProgress(value=0.0, bar_style='info', description='Progress:', layout=Layout(height='25px', width='50%'),…"
      ]
     },
     "metadata": {},
     "output_type": "display_data"
    },
    {
     "data": {
      "image/png": "[encoded data removed]",
      "text/plain": [
       "<IPython.core.display.Image object>"
      ]
     },
     "metadata": {},
     "output_type": "display_data"
    }
   ],
   "source": [
    "top_business = business.groupBy('categories').count().orderBy(col('count').desc())\n",
    "pandas_top_business = top_business.toPandas()\n",
    "x = pandas_top_business.head(20)['categories'].values\n",
    "y = pandas_top_business.head(20)['count'].values\n",
    "plt.figure(figsize=(15,10))\n",
    "plt.bar(x,y)\n",
    "plt.xticks(rotation=90)\n",
    "plt.xlabel('Count')\n",
    "plt.ylabel('Categories')\n",
    "plt.title('Top Categories by Business')\n",
    "%matplot plt"
   ]
  },
  {
   "cell_type": "markdown",
   "id": "b407d202",
   "metadata": {},
   "source": [
    "--------------------------"
   ]
  },
  {
   "cell_type": "markdown",
   "id": "92ae5f22",
   "metadata": {},
   "source": [
    "## Loading User Data\n",
    "\n",
    "Begin by loading the user data set from S3 and printing schema to determine what data is available. `s3://cis9760-yelpdataset/yelp-light/*review.json`"
   ]
  },
  {
   "cell_type": "code",
   "execution_count": 16,
   "id": "d148683a",
   "metadata": {},
   "outputs": [
    {
     "data": {
      "application/vnd.jupyter.widget-view+json": {
       "model_id": "cbc59d48980247e68c9c5f67dbe361d7",
       "version_major": 2,
       "version_minor": 0
      },
      "text/plain": [
       "VBox()"
      ]
     },
     "metadata": {},
     "output_type": "display_data"
    },
    {
     "data": {
      "application/vnd.jupyter.widget-view+json": {
       "model_id": "",
       "version_major": 2,
       "version_minor": 0
      },
      "text/plain": [
       "FloatProgress(value=0.0, bar_style='info', description='Progress:', layout=Layout(height='25px', width='50%'),…"
      ]
     },
     "metadata": {},
     "output_type": "display_data"
    }
   ],
   "source": [
    "review = spark.read.json('s3://xinyujiang-project02/yelp_academic_dataset_review.json')"
   ]
  },
  {
   "cell_type": "code",
   "execution_count": 17,
   "id": "eefe93f3",
   "metadata": {},
   "outputs": [
    {
     "data": {
      "application/vnd.jupyter.widget-view+json": {
       "model_id": "a007a1be8e0b4e15aaa26289fa57c149",
       "version_major": 2,
       "version_minor": 0
      },
      "text/plain": [
       "VBox()"
      ]
     },
     "metadata": {},
     "output_type": "display_data"
    },
    {
     "data": {
      "application/vnd.jupyter.widget-view+json": {
       "model_id": "",
       "version_major": 2,
       "version_minor": 0
      },
      "text/plain": [
       "FloatProgress(value=0.0, bar_style='info', description='Progress:', layout=Layout(height='25px', width='50%'),…"
      ]
     },
     "metadata": {},
     "output_type": "display_data"
    },
    {
     "name": "stdout",
     "output_type": "stream",
     "text": [
      "root\n",
      " |-- business_id: string (nullable = true)\n",
      " |-- cool: long (nullable = true)\n",
      " |-- date: string (nullable = true)\n",
      " |-- funny: long (nullable = true)\n",
      " |-- review_id: string (nullable = true)\n",
      " |-- stars: double (nullable = true)\n",
      " |-- text: string (nullable = true)\n",
      " |-- useful: long (nullable = true)\n",
      " |-- user_id: string (nullable = true)"
     ]
    }
   ],
   "source": [
    "review.printSchema()"
   ]
  },
  {
   "cell_type": "markdown",
   "id": "452fa31b",
   "metadata": {},
   "source": [
    "Let's begin by listing the `business_id` and `stars` columns together for the user reviews data."
   ]
  },
  {
   "cell_type": "code",
   "execution_count": 18,
   "id": "a523694d",
   "metadata": {},
   "outputs": [
    {
     "data": {
      "application/vnd.jupyter.widget-view+json": {
       "model_id": "91e8bf004d7d4eff92b8e21d618770b6",
       "version_major": 2,
       "version_minor": 0
      },
      "text/plain": [
       "VBox()"
      ]
     },
     "metadata": {},
     "output_type": "display_data"
    },
    {
     "data": {
      "application/vnd.jupyter.widget-view+json": {
       "model_id": "",
       "version_major": 2,
       "version_minor": 0
      },
      "text/plain": [
       "FloatProgress(value=0.0, bar_style='info', description='Progress:', layout=Layout(height='25px', width='50%'),…"
      ]
     },
     "metadata": {},
     "output_type": "display_data"
    },
    {
     "name": "stdout",
     "output_type": "stream",
     "text": [
      "+--------------------+-----+\n",
      "|         business_id|stars|\n",
      "+--------------------+-----+\n",
      "|XQfwVwDr-v0ZS3_Cb...|  3.0|\n",
      "|7ATYjTIgM3jUlt4UM...|  5.0|\n",
      "|YjUWPpI6HXG530lwP...|  3.0|\n",
      "|kxX2SOes4o-D3ZQBk...|  5.0|\n",
      "|e4Vwtrqf-wpJfwesg...|  4.0|\n",
      "+--------------------+-----+\n",
      "only showing top 5 rows"
     ]
    }
   ],
   "source": [
    "review.createOrReplaceTempView(\"review\")\n",
    "spark.sql(\"\"\"\n",
    "SELECT \n",
    "    business_id,\n",
    "    stars\n",
    "FROM review\n",
    "\"\"\").show(5, truncate=True)"
   ]
  },
  {
   "cell_type": "markdown",
   "id": "dc41a14e",
   "metadata": {},
   "source": [
    "Now, let's aggregate along the `stars` column to get a resultant dataframe that displays _average stars_ per business as accumulated by users who **took the time to submit a written review**."
   ]
  },
  {
   "cell_type": "code",
   "execution_count": 19,
   "id": "d3b7e173",
   "metadata": {},
   "outputs": [
    {
     "data": {
      "application/vnd.jupyter.widget-view+json": {
       "model_id": "c00a838c821740ec89d3f4131b7268fd",
       "version_major": 2,
       "version_minor": 0
      },
      "text/plain": [
       "VBox()"
      ]
     },
     "metadata": {},
     "output_type": "display_data"
    },
    {
     "data": {
      "application/vnd.jupyter.widget-view+json": {
       "model_id": "",
       "version_major": 2,
       "version_minor": 0
      },
      "text/plain": [
       "FloatProgress(value=0.0, bar_style='info', description='Progress:', layout=Layout(height='25px', width='50%'),…"
      ]
     },
     "metadata": {},
     "output_type": "display_data"
    },
    {
     "name": "stdout",
     "output_type": "stream",
     "text": [
      "+--------------------+------------------+\n",
      "|         business_id|        avg(stars)|\n",
      "+--------------------+------------------+\n",
      "|HSzSGdcNaU7heQe0N...|3.3333333333333335|\n",
      "|skW4boArIApRw9DXK...|2.3947368421052633|\n",
      "|zJErbOQMKX-MwHs_u...|2.9279279279279278|\n",
      "|I0053JmJ5DEFUWSJ8...|2.3956043956043955|\n",
      "|wS-SWAa_yaJAw6fJm...| 3.357142857142857|\n",
      "+--------------------+------------------+\n",
      "only showing top 5 rows"
     ]
    }
   ],
   "source": [
    "review.createOrReplaceTempView(\"review\")\n",
    "spark.sql(\"\"\"\n",
    "SELECT \n",
    "    business_id,\n",
    "    AVG(stars)\n",
    "FROM review\n",
    "GROUP BY business_id\n",
    "\"\"\").show(5, truncate=True)"
   ]
  },
  {
   "cell_type": "markdown",
   "id": "b9d9d81b",
   "metadata": {},
   "source": [
    "Now the fun part - let's join our two dataframes (reviews and business data) by `business_id`. "
   ]
  },
  {
   "cell_type": "code",
   "execution_count": 20,
   "id": "f2310df6",
   "metadata": {},
   "outputs": [
    {
     "data": {
      "application/vnd.jupyter.widget-view+json": {
       "model_id": "a7c61025adb8406a8b761adde8bccf95",
       "version_major": 2,
       "version_minor": 0
      },
      "text/plain": [
       "VBox()"
      ]
     },
     "metadata": {},
     "output_type": "display_data"
    },
    {
     "data": {
      "application/vnd.jupyter.widget-view+json": {
       "model_id": "",
       "version_major": 2,
       "version_minor": 0
      },
      "text/plain": [
       "FloatProgress(value=0.0, bar_style='info', description='Progress:', layout=Layout(height='25px', width='50%'),…"
      ]
     },
     "metadata": {},
     "output_type": "display_data"
    }
   ],
   "source": [
    "business = business.select('business_id','stars','name','city','state')\n",
    "review = review.groupby('business_id').avg('stars')\n",
    "\n",
    "merged = business.join(review, ['business_id'], \"inner\")"
   ]
  },
  {
   "cell_type": "markdown",
   "id": "6e6f4f13",
   "metadata": {},
   "source": [
    "Let's see a few of these:"
   ]
  },
  {
   "cell_type": "code",
   "execution_count": 21,
   "id": "4f20608f",
   "metadata": {},
   "outputs": [
    {
     "data": {
      "application/vnd.jupyter.widget-view+json": {
       "model_id": "38ae3df58eb34d5fa25e26a1f9644a75",
       "version_major": 2,
       "version_minor": 0
      },
      "text/plain": [
       "VBox()"
      ]
     },
     "metadata": {},
     "output_type": "display_data"
    },
    {
     "data": {
      "application/vnd.jupyter.widget-view+json": {
       "model_id": "",
       "version_major": 2,
       "version_minor": 0
      },
      "text/plain": [
       "FloatProgress(value=0.0, bar_style='info', description='Progress:', layout=Layout(height='25px', width='50%'),…"
      ]
     },
     "metadata": {},
     "output_type": "display_data"
    },
    {
     "name": "stdout",
     "output_type": "stream",
     "text": [
      "+--------------------+-----+--------------------+-------+-----+------------------+\n",
      "|         business_id|stars|                name|   city|state|        avg(stars)|\n",
      "+--------------------+-----+--------------------+-------+-----+------------------+\n",
      "|HSzSGdcNaU7heQe0N...|  3.0|Gillane's Bar & G...|Ardmore|   PA|3.3333333333333335|\n",
      "|HSzSGdcNaU7heQe0N...|  3.0|Gillane's Bar & G...|Ardmore|   PA|3.3333333333333335|\n",
      "|HSzSGdcNaU7heQe0N...|  3.0|Gillane's Bar & G...|Ardmore|   PA|3.3333333333333335|\n",
      "|HSzSGdcNaU7heQe0N...|  3.0|Gillane's Bar & G...|Ardmore|   PA|3.3333333333333335|\n",
      "|HSzSGdcNaU7heQe0N...|  3.0|Gillane's Bar & G...|Ardmore|   PA|3.3333333333333335|\n",
      "+--------------------+-----+--------------------+-------+-----+------------------+\n",
      "only showing top 5 rows"
     ]
    }
   ],
   "source": [
    "merged.show(5)"
   ]
  },
  {
   "cell_type": "markdown",
   "id": "765bcea0",
   "metadata": {},
   "source": [
    "Compute a new dataframe that calculates what we will call the _skew_ (for lack of a better word) between the avg stars accumulated from written reviews and the _actual_ star rating of a business (ie: the average of stars given by reviewers who wrote an actual review **and** reviewers who just provided a star rating).\n",
    "\n",
    "The formula you can use is something like:\n",
    "\n",
    "```\n",
    "(row['avg(stars)'] - row['stars']) / row['stars']\n",
    "```\n",
    "\n",
    "If the **skew** is negative, we can interpret that to be: reviewers who left a written response were more dissatisfied than normal. If **skew** is positive, we can interpret that to be: reviewers who left a written response were more satisfied than normal."
   ]
  },
  {
   "cell_type": "code",
   "execution_count": 22,
   "id": "2d5c771f",
   "metadata": {},
   "outputs": [
    {
     "data": {
      "application/vnd.jupyter.widget-view+json": {
       "model_id": "a28cfc49372e476c85a242a45282280d",
       "version_major": 2,
       "version_minor": 0
      },
      "text/plain": [
       "VBox()"
      ]
     },
     "metadata": {},
     "output_type": "display_data"
    },
    {
     "data": {
      "application/vnd.jupyter.widget-view+json": {
       "model_id": "",
       "version_major": 2,
       "version_minor": 0
      },
      "text/plain": [
       "FloatProgress(value=0.0, bar_style='info', description='Progress:', layout=Layout(height='25px', width='50%'),…"
      ]
     },
     "metadata": {},
     "output_type": "display_data"
    },
    {
     "name": "stdout",
     "output_type": "stream",
     "text": [
      "+--------------------+-----+--------------------+------------+-----+------------------+--------------------+\n",
      "|         business_id|stars|                name|        city|state|        avg(stars)|                skew|\n",
      "+--------------------+-----+--------------------+------------+-----+------------------+--------------------+\n",
      "|zJErbOQMKX-MwHs_u...|  3.0|Philadelphia Marr...|Philadelphia|   PA|2.9279279279279278|-0.02402402402402...|\n",
      "|zJErbOQMKX-MwHs_u...|  3.0|Philadelphia Marr...|Philadelphia|   PA|2.9279279279279278|-0.02402402402402...|\n",
      "|zJErbOQMKX-MwHs_u...|  3.0|Philadelphia Marr...|Philadelphia|   PA|2.9279279279279278|-0.02402402402402...|\n",
      "|zJErbOQMKX-MwHs_u...|  3.0|Philadelphia Marr...|Philadelphia|   PA|2.9279279279279278|-0.02402402402402...|\n",
      "|RZ-FNTXvqHKngyLGD...|  3.0|Gaetano's of West...| West Berlin|   NJ|2.8823529411764706|-0.03921568627450981|\n",
      "+--------------------+-----+--------------------+------------+-----+------------------+--------------------+\n",
      "only showing top 5 rows"
     ]
    }
   ],
   "source": [
    "# Creating \"skew\" column\n",
    "merged = merged.toPandas()\n",
    "merged['skew'] = (merged['avg(stars)'] - merged['stars']) / merged['stars']\n",
    "\n",
    "# Converting back to spark dataframe\n",
    "merged = spark.createDataFrame(merged)\n",
    "merged.show(5)"
   ]
  },
  {
   "cell_type": "markdown",
   "id": "a3079e27",
   "metadata": {},
   "source": [
    "And finally, graph it!"
   ]
  },
  {
   "cell_type": "code",
   "execution_count": 23,
   "id": "feb8efa4",
   "metadata": {},
   "outputs": [
    {
     "data": {
      "application/vnd.jupyter.widget-view+json": {
       "model_id": "019cf14c1c7e4b0d8df6d01e4d1d492b",
       "version_major": 2,
       "version_minor": 0
      },
      "text/plain": [
       "VBox()"
      ]
     },
     "metadata": {},
     "output_type": "display_data"
    },
    {
     "data": {
      "application/vnd.jupyter.widget-view+json": {
       "model_id": "",
       "version_major": 2,
       "version_minor": 0
      },
      "text/plain": [
       "FloatProgress(value=0.0, bar_style='info', description='Progress:', layout=Layout(height='25px', width='50%'),…"
      ]
     },
     "metadata": {},
     "output_type": "display_data"
    },
    {
     "data": {
      "image/png": "[encoded data removed]",
      "text/plain": [
       "<IPython.core.display.Image object>"
      ]
     },
     "metadata": {},
     "output_type": "display_data"
    }
   ],
   "source": [
    "# Using seaborn for the line on distribution plot\n",
    "merged = merged.toPandas()\n",
    "plt.figure(figsize=(10,5))\n",
    "sns.distplot(merged['skew'], kde=True)\n",
    "plt.title('Yelp Review Skew')\n",
    "plt.xlabel('Skew')\n",
    "plt.ylabel('Density')\n",
    "%matplot plt"
   ]
  },
  {
   "cell_type": "markdown",
   "id": "4d4e14f4",
   "metadata": {},
   "source": [
    "So, do Yelp (written) Reviews skew negative? Does this analysis actually prove anything? Expound on implications / interpretations of this graph. "
   ]
  },
  {
   "cell_type": "markdown",
   "id": "79ee4874",
   "metadata": {},
   "source": [
    "### IMPLICATIONS"
   ]
  },
  {
   "cell_type": "markdown",
   "id": "9c0ad9fb",
   "metadata": {},
   "source": [
    "<b><u>Type your answer here:</u></b>\n",
    "\n",
    "From the graph above, it's hard to tell the skew because the density plot is nearly symmetric. However, it does seem like the graph is <b>very slightly</b> left skewed (negative). This means user reviews of restaurants tend to be more negative (lower user satisfaction).\n",
    "\n",
    "If I want to explore further, I can use something like <a href=\"https://www.investopedia.com/terms/s/skewness.asp#measuring-skewness\" target=\"_blank\">Pearson's Skewness Formula</a> I found on Investopedia to obtain the exact numbers to establish skewness."
   ]
  },
  {
   "cell_type": "markdown",
   "id": "c2e44cb4",
   "metadata": {},
   "source": [
    "--------------------------"
   ]
  },
  {
   "cell_type": "markdown",
   "id": "c7c74345",
   "metadata": {},
   "source": [
    "# Should the Elite be Trusted?"
   ]
  },
  {
   "cell_type": "markdown",
   "id": "ed348510",
   "metadata": {},
   "source": [
    "How accurate or close are the ratings of an \"elite\" user (check Users table schema) vs the actual business rating? `s3://cis9760-yelpdataset/yelp-light/*user.json`\n",
    "\n",
    "Feel free to use any and all methodologies at your disposal. \n",
    "You must render one visualization in your analysis and interpret your findings."
   ]
  },
  {
   "cell_type": "code",
   "execution_count": 24,
   "id": "3ec69ce8",
   "metadata": {},
   "outputs": [
    {
     "data": {
      "application/vnd.jupyter.widget-view+json": {
       "model_id": "8f2796919b1a48899d09dc9726959c4d",
       "version_major": 2,
       "version_minor": 0
      },
      "text/plain": [
       "VBox()"
      ]
     },
     "metadata": {},
     "output_type": "display_data"
    },
    {
     "data": {
      "application/vnd.jupyter.widget-view+json": {
       "model_id": "",
       "version_major": 2,
       "version_minor": 0
      },
      "text/plain": [
       "FloatProgress(value=0.0, bar_style='info', description='Progress:', layout=Layout(height='25px', width='50%'),…"
      ]
     },
     "metadata": {},
     "output_type": "display_data"
    }
   ],
   "source": [
    "# Importing files from S3\n",
    "user = spark.read.json('s3://xinyujiang-project02/yelp_academic_dataset_user.json')"
   ]
  },
  {
   "cell_type": "code",
   "execution_count": 25,
   "id": "8ea571af",
   "metadata": {},
   "outputs": [
    {
     "data": {
      "application/vnd.jupyter.widget-view+json": {
       "model_id": "2d099e1dc2cc49389cf457b4833374e4",
       "version_major": 2,
       "version_minor": 0
      },
      "text/plain": [
       "VBox()"
      ]
     },
     "metadata": {},
     "output_type": "display_data"
    },
    {
     "data": {
      "application/vnd.jupyter.widget-view+json": {
       "model_id": "",
       "version_major": 2,
       "version_minor": 0
      },
      "text/plain": [
       "FloatProgress(value=0.0, bar_style='info', description='Progress:', layout=Layout(height='25px', width='50%'),…"
      ]
     },
     "metadata": {},
     "output_type": "display_data"
    },
    {
     "name": "stdout",
     "output_type": "stream",
     "text": [
      "root\n",
      " |-- average_stars: double (nullable = true)\n",
      " |-- compliment_cool: long (nullable = true)\n",
      " |-- compliment_cute: long (nullable = true)\n",
      " |-- compliment_funny: long (nullable = true)\n",
      " |-- compliment_hot: long (nullable = true)\n",
      " |-- compliment_list: long (nullable = true)\n",
      " |-- compliment_more: long (nullable = true)\n",
      " |-- compliment_note: long (nullable = true)\n",
      " |-- compliment_photos: long (nullable = true)\n",
      " |-- compliment_plain: long (nullable = true)\n",
      " |-- compliment_profile: long (nullable = true)\n",
      " |-- compliment_writer: long (nullable = true)\n",
      " |-- cool: long (nullable = true)\n",
      " |-- elite: string (nullable = true)\n",
      " |-- fans: long (nullable = true)\n",
      " |-- friends: string (nullable = true)\n",
      " |-- funny: long (nullable = true)\n",
      " |-- name: string (nullable = true)\n",
      " |-- review_count: long (nullable = true)\n",
      " |-- useful: long (nullable = true)\n",
      " |-- user_id: string (nullable = true)\n",
      " |-- yelping_since: string (nullable = true)"
     ]
    }
   ],
   "source": [
    "user.printSchema()"
   ]
  },
  {
   "cell_type": "code",
   "execution_count": 26,
   "id": "8201104d",
   "metadata": {},
   "outputs": [
    {
     "data": {
      "application/vnd.jupyter.widget-view+json": {
       "model_id": "8f124550e61a43999906580b6c8bce5c",
       "version_major": 2,
       "version_minor": 0
      },
      "text/plain": [
       "VBox()"
      ]
     },
     "metadata": {},
     "output_type": "display_data"
    },
    {
     "data": {
      "application/vnd.jupyter.widget-view+json": {
       "model_id": "",
       "version_major": 2,
       "version_minor": 0
      },
      "text/plain": [
       "FloatProgress(value=0.0, bar_style='info', description='Progress:', layout=Layout(height='25px', width='50%'),…"
      ]
     },
     "metadata": {},
     "output_type": "display_data"
    },
    {
     "name": "stdout",
     "output_type": "stream",
     "text": [
      "+--------------------+--------------------+-------------+-------------------+------------+\n",
      "|             user_id|               elite|average_stars|      yelping_since|review_count|\n",
      "+--------------------+--------------------+-------------+-------------------+------------+\n",
      "|qVc8ODYU5SZjKXVBg...|                2007|         3.91|2007-01-25 16:47:26|         585|\n",
      "|j14WgRoU_-2ZE1aw1...|2009,2010,2011,20...|         3.74|2009-01-25 04:35:42|        4333|\n",
      "|2WnXYQFK0hXEoTxPt...|2009,2010,2011,20...|         3.32|2008-07-25 10:41:00|         665|\n",
      "|SZDeASXq7o05mMNLs...|      2009,2010,2011|         4.27|2005-11-29 04:38:33|         224|\n",
      "|hA5lMy-EnncsH4JoR...|                    |         3.54|2007-01-05 19:40:59|          79|\n",
      "|q_QQ5kBBwlCcbL1s4...|2006,2007,2008,20...|         3.85|2005-03-14 20:26:35|        1221|\n",
      "|cxuxXkcihfCbqt5By...|                    |         2.75|2009-02-24 03:09:06|          12|\n",
      "|E9kcWJdJUHuTKfQur...|                    |         3.73|2008-12-11 22:11:56|         358|\n",
      "|lO1iq-f75hnPNZkTy...|                    |         4.04|2008-12-29 22:40:56|          40|\n",
      "|AUi8MPWJ0mLkMfwbu...|                    |          3.4|2010-01-07 18:32:04|         109|\n",
      "+--------------------+--------------------+-------------+-------------------+------------+\n",
      "only showing top 10 rows"
     ]
    }
   ],
   "source": [
    "user.createOrReplaceTempView(\"user\")\n",
    "spark.sql(\"\"\"\n",
    "SELECT \n",
    "    user_id,\n",
    "    elite,\n",
    "    average_stars,\n",
    "    yelping_since,\n",
    "    review_count\n",
    "FROM user\n",
    "\"\"\").show(10, truncate=True)"
   ]
  },
  {
   "cell_type": "code",
   "execution_count": 27,
   "id": "7be523e6",
   "metadata": {},
   "outputs": [
    {
     "data": {
      "application/vnd.jupyter.widget-view+json": {
       "model_id": "584e56d55aa74a4fa057fb24710303b4",
       "version_major": 2,
       "version_minor": 0
      },
      "text/plain": [
       "VBox()"
      ]
     },
     "metadata": {},
     "output_type": "display_data"
    },
    {
     "data": {
      "application/vnd.jupyter.widget-view+json": {
       "model_id": "",
       "version_major": 2,
       "version_minor": 0
      },
      "text/plain": [
       "FloatProgress(value=0.0, bar_style='info', description='Progress:', layout=Layout(height='25px', width='50%'),…"
      ]
     },
     "metadata": {},
     "output_type": "display_data"
    },
    {
     "name": "stdout",
     "output_type": "stream",
     "text": [
      "+--------------------+--------------------+-------------+-------------------+------------+\n",
      "|             user_id|               elite|average_stars|      yelping_since|review_count|\n",
      "+--------------------+--------------------+-------------+-------------------+------------+\n",
      "|qVc8ODYU5SZjKXVBg...|                2007|         3.91|2007-01-25 16:47:26|         585|\n",
      "|j14WgRoU_-2ZE1aw1...|2009,2010,2011,20...|         3.74|2009-01-25 04:35:42|        4333|\n",
      "|2WnXYQFK0hXEoTxPt...|2009,2010,2011,20...|         3.32|2008-07-25 10:41:00|         665|\n",
      "|SZDeASXq7o05mMNLs...|      2009,2010,2011|         4.27|2005-11-29 04:38:33|         224|\n",
      "|q_QQ5kBBwlCcbL1s4...|2006,2007,2008,20...|         3.85|2005-03-14 20:26:35|        1221|\n",
      "|xoZvMJPDW6Q9pDAXI...| 2009,2010,2011,2012|         3.89|2009-05-27 06:12:10|         535|\n",
      "|SgiBkhXeqIKl1PlFp...|2007,2008,2009,20...|         3.75|2006-08-25 16:47:25|         682|\n",
      "|QF1Kuhs8iwLWANNZx...|2010,2011,2012,20...|         4.11|2009-04-27 20:25:54|         607|\n",
      "|FT9CFS39sjZxVjCTr...|           2015,2016|         3.52|2010-06-14 21:44:28|         201|\n",
      "|MGPQVLsODMm9ZtYQW...|2008,2009,2010,20...|         4.06|2008-01-19 22:50:00|        1807|\n",
      "+--------------------+--------------------+-------------+-------------------+------------+\n",
      "only showing top 10 rows"
     ]
    }
   ],
   "source": [
    "# From the above we see that there are missing values for elite\n",
    "# So I will filter only for values that exist and are NOT missing\n",
    "user = user.filter(user['elite'] != '')\n",
    "user.createOrReplaceTempView(\"user\")\n",
    "spark.sql(\"\"\"\n",
    "SELECT \n",
    "    user_id,\n",
    "    elite,\n",
    "    average_stars,\n",
    "    yelping_since,\n",
    "    review_count\n",
    "FROM user\n",
    "\"\"\").show(10, truncate=True)"
   ]
  },
  {
   "cell_type": "code",
   "execution_count": 28,
   "id": "11160dec",
   "metadata": {},
   "outputs": [
    {
     "data": {
      "application/vnd.jupyter.widget-view+json": {
       "model_id": "a2a35f9e85a14b06a2ff79599ae191c8",
       "version_major": 2,
       "version_minor": 0
      },
      "text/plain": [
       "VBox()"
      ]
     },
     "metadata": {},
     "output_type": "display_data"
    },
    {
     "data": {
      "application/vnd.jupyter.widget-view+json": {
       "model_id": "",
       "version_major": 2,
       "version_minor": 0
      },
      "text/plain": [
       "FloatProgress(value=0.0, bar_style='info', description='Progress:', layout=Layout(height='25px', width='50%'),…"
      ]
     },
     "metadata": {},
     "output_type": "display_data"
    }
   ],
   "source": [
    "# Reimporting and selecting columns\n",
    "business = spark.read.json('s3://xinyujiang-project02/yelp_academic_dataset_business.json')\n",
    "business = business.select('business_id','name','city','state')\n",
    "\n",
    "review = spark.read.json('s3://xinyujiang-project02/yelp_academic_dataset_review.json')\n",
    "review_userID = review.select('user_id','business_id','stars')\n",
    "review = review.groupby('business_id').avg('stars')\n",
    "\n",
    "merged = business.join(review, ['business_id'], \"inner\")"
   ]
  },
  {
   "cell_type": "code",
   "execution_count": 29,
   "id": "2b34b497",
   "metadata": {},
   "outputs": [
    {
     "data": {
      "application/vnd.jupyter.widget-view+json": {
       "model_id": "9c9362444d9b42d883f654a2925e32c0",
       "version_major": 2,
       "version_minor": 0
      },
      "text/plain": [
       "VBox()"
      ]
     },
     "metadata": {},
     "output_type": "display_data"
    },
    {
     "data": {
      "application/vnd.jupyter.widget-view+json": {
       "model_id": "",
       "version_major": 2,
       "version_minor": 0
      },
      "text/plain": [
       "FloatProgress(value=0.0, bar_style='info', description='Progress:', layout=Layout(height='25px', width='50%'),…"
      ]
     },
     "metadata": {},
     "output_type": "display_data"
    },
    {
     "name": "stdout",
     "output_type": "stream",
     "text": [
      "+--------------------+--------------------+-----+-------------+--------------------+-----------------+\n",
      "|             user_id|               elite|stars|average_stars|         business_id|       avg(stars)|\n",
      "+--------------------+--------------------+-----+-------------+--------------------+-----------------+\n",
      "|fen9BWC39ul9SJZfQ...|2017,2018,2019,20...|  4.0|         3.87|--gJkxbsiSIwsQKbi...|4.833333333333333|\n",
      "|7jOaJw3txVFlkHB7Y...|           2015,2016|  5.0|         4.49|-02xFuruu85XmDn2x...| 4.68595041322314|\n",
      "|_VZlDBtCT_Qb3_OOT...|           2018,2019|  5.0|         4.07|-02xFuruu85XmDn2x...| 4.68595041322314|\n",
      "|EO7u_L1_ZgRdawMrb...|2017,2018,2019,20...|  5.0|         3.93|-02xFuruu85XmDn2x...| 4.68595041322314|\n",
      "|wqeGcKWbtQLyavwtq...|                2021|  5.0|         3.81|-02xFuruu85XmDn2x...| 4.68595041322314|\n",
      "+--------------------+--------------------+-----+-------------+--------------------+-----------------+\n",
      "only showing top 5 rows"
     ]
    }
   ],
   "source": [
    "# Merging\n",
    "elite_user_reviews = user.join(review_userID, ['user_id'], 'inner')\n",
    "elite_user_revuews = elite_user_reviews.drop(elite_user_reviews['stars'])\n",
    "elite_user_reviews = elite_user_reviews.join(review, ['business_id'], 'inner')\n",
    "elite_user_reviews = elite_user_reviews.select('user_id','elite','stars','average_stars','business_id','avg(stars)')\n",
    "\n",
    "# elite_user_reviews.createOrReplaceTempView(\"elite_user_reviews\")\n",
    "# spark.sql(\"\"\"\n",
    "# SELECT \n",
    "#     user_id,\n",
    "#     elite,\n",
    "#     average_stars,\n",
    "#     business_id,\n",
    "#     avg(stars)\n",
    "# FROM elite_user_reviews\n",
    "# \"\"\").show(5, truncate=True)\n",
    "\n",
    "elite_user_reviews.show(5)"
   ]
  },
  {
   "cell_type": "code",
   "execution_count": 30,
   "id": "5b7a2e61",
   "metadata": {},
   "outputs": [
    {
     "data": {
      "application/vnd.jupyter.widget-view+json": {
       "model_id": "76b3f88b312742e791836e56b0cfc5fd",
       "version_major": 2,
       "version_minor": 0
      },
      "text/plain": [
       "VBox()"
      ]
     },
     "metadata": {},
     "output_type": "display_data"
    },
    {
     "data": {
      "application/vnd.jupyter.widget-view+json": {
       "model_id": "",
       "version_major": 2,
       "version_minor": 0
      },
      "text/plain": [
       "FloatProgress(value=0.0, bar_style='info', description='Progress:', layout=Layout(height='25px', width='50%'),…"
      ]
     },
     "metadata": {},
     "output_type": "display_data"
    },
    {
     "name": "stdout",
     "output_type": "stream",
     "text": [
      "+--------------------+--------------------+-----+-------------+--------------------+-----------------+--------------------+\n",
      "|             user_id|               elite|stars|average_stars|         business_id|       avg(stars)|                skew|\n",
      "+--------------------+--------------------+-----+-------------+--------------------+-----------------+--------------------+\n",
      "|fen9BWC39ul9SJZfQ...|2017,2018,2019,20...|  4.0|         3.87|--gJkxbsiSIwsQKbi...|4.833333333333333|-0.17241379310344823|\n",
      "|7jOaJw3txVFlkHB7Y...|           2015,2016|  5.0|         4.49|-02xFuruu85XmDn2x...| 4.68595041322314| 0.06701940035273375|\n",
      "|_VZlDBtCT_Qb3_OOT...|           2018,2019|  5.0|         4.07|-02xFuruu85XmDn2x...| 4.68595041322314| 0.06701940035273375|\n",
      "|EO7u_L1_ZgRdawMrb...|2017,2018,2019,20...|  5.0|         3.93|-02xFuruu85XmDn2x...| 4.68595041322314| 0.06701940035273375|\n",
      "|2gyrlO8oOuGf5JMOe...|2017,2018,2019,20...|  5.0|         4.06|-02xFuruu85XmDn2x...| 4.68595041322314| 0.06701940035273375|\n",
      "+--------------------+--------------------+-----+-------------+--------------------+-----------------+--------------------+\n",
      "only showing top 5 rows"
     ]
    }
   ],
   "source": [
    "# Skew column, same as previous section\n",
    "elite_user_reviews = elite_user_reviews.toPandas()\n",
    "elite_user_reviews['skew'] = (elite_user_reviews['stars'] - elite_user_reviews['avg(stars)']) / elite_user_reviews['avg(stars)']\n",
    "elite_user_reviews = spark.createDataFrame(elite_user_reviews)\n",
    "elite_user_reviews.show(5)"
   ]
  },
  {
   "cell_type": "code",
   "execution_count": 31,
   "id": "9750290b",
   "metadata": {},
   "outputs": [
    {
     "data": {
      "application/vnd.jupyter.widget-view+json": {
       "model_id": "cef2080bebc048f58f34e8e70278a273",
       "version_major": 2,
       "version_minor": 0
      },
      "text/plain": [
       "VBox()"
      ]
     },
     "metadata": {},
     "output_type": "display_data"
    },
    {
     "data": {
      "application/vnd.jupyter.widget-view+json": {
       "model_id": "",
       "version_major": 2,
       "version_minor": 0
      },
      "text/plain": [
       "FloatProgress(value=0.0, bar_style='info', description='Progress:', layout=Layout(height='25px', width='50%'),…"
      ]
     },
     "metadata": {},
     "output_type": "display_data"
    },
    {
     "data": {
      "image/png": "[encoded data removed]",
      "text/plain": [
       "<IPython.core.display.Image object>"
      ]
     },
     "metadata": {},
     "output_type": "display_data"
    }
   ],
   "source": [
    "# Seaborn distribution of elite skews\n",
    "elite_user_reviews = elite_user_reviews.toPandas()\n",
    "plt.figure(figsize=(10,5))\n",
    "sns.distplot(elite_user_reviews['skew'], kde=True)\n",
    "plt.title('Yelp Elite Review Skew')\n",
    "plt.xlabel('Skew')\n",
    "plt.ylabel('Density')\n",
    "%matplot plt"
   ]
  },
  {
   "cell_type": "markdown",
   "id": "efc148f6",
   "metadata": {},
   "source": [
    "### IMPLICATIONS"
   ]
  },
  {
   "cell_type": "markdown",
   "id": "8aa6d0a1",
   "metadata": {},
   "source": [
    "The graph above is skewed left - meaning elite users left more negative reviews than normal users. This could be due to having the \"Elite\" status, these users could be more critical of the restaurant. \n",
    "\n",
    "It is worth pointing out that the skewness is not too strong - meaning leaving negative reviews may not be intentional (just for the sake of leaving negative reviews). "
   ]
  },
  {
   "cell_type": "markdown",
   "id": "18a84879",
   "metadata": {},
   "source": [
    "-----------------------------"
   ]
  },
  {
   "cell_type": "markdown",
   "id": "900d4923",
   "metadata": {},
   "source": [
    "# Extra Credit (3 points)\n",
    "\n",
    "Try and analyze some interesting dimension to this data. \n",
    "**Requirements:**\n",
    "\n",
    "You must use the **Users** dataset and join on either the \"**business** or **reviews** dataset.\n",
    "\n",
    "You must render **one visual**"
   ]
  },
  {
   "cell_type": "code",
   "execution_count": null,
   "id": "a951b634",
   "metadata": {},
   "outputs": [],
   "source": []
  }
 ],
 "metadata": {
  "kernelspec": {
   "display_name": "PySpark",
   "language": "",
   "name": "pysparkkernel"
  },
  "language_info": {
   "codemirror_mode": {
    "name": "python",
    "version": 2
   },
   "mimetype": "text/x-python",
   "name": "pyspark",
   "pygments_lexer": "python2"
  }
 },
 "nbformat": 4,
 "nbformat_minor": 5
}
